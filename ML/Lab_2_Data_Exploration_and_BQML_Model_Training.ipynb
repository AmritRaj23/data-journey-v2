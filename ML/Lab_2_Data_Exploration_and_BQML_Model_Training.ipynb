{
 "cells": [
  {
   "cell_type": "code",
   "execution_count": null,
   "id": "281c2f8a",
   "metadata": {},
   "outputs": [],
   "source": [
    "# Copyright 2023 Google LLC\n",
    "#\n",
    "# Licensed under the Apache License, Version 2.0 (the \"License\");\n",
    "# you may not use this file except in compliance with the License.\n",
    "# You may obtain a copy of the License at\n",
    "#\n",
    "#     https://www.apache.org/licenses/LICENSE-2.0\n",
    "#\n",
    "# Unless required by applicable law or agreed to in writing, software\n",
    "# distributed under the License is distributed on an \"AS IS\" BASIS,\n",
    "# WITHOUT WARRANTIES OR CONDITIONS OF ANY KIND, either express or implied.\n",
    "# See the License for the specific language governing permissions and\n",
    "# limitations under the License."
   ]
  },
  {
   "cell_type": "markdown",
   "id": "6693e950-502b-4f4e-aaac-34b44b015bff",
   "metadata": {
    "id": "6693e950-502b-4f4e-aaac-34b44b015bff"
   },
   "source": [
    "# **Lab 2:** Data Exploration and Model Training"
   ]
  },
  {
   "cell_type": "markdown",
   "id": "101df100-8730-4286-9a02-2819e1e0855c",
   "metadata": {
    "id": "101df100-8730-4286-9a02-2819e1e0855c"
   },
   "source": [
    "### **Step 1:** Preparation and Authentication\n",
    "Set the right parameters and authenticate your user."
   ]
  },
  {
   "cell_type": "code",
   "execution_count": 1,
   "id": "988eb9c8-1d06-4c2f-8947-2a843177201b",
   "metadata": {
    "id": "988eb9c8-1d06-4c2f-8947-2a843177201b"
   },
   "outputs": [],
   "source": [
    "project_id =  \"\" \n",
    "team_name  = \"\" \n",
    "location   = \"us\" #This is currently necessary\n",
    "dataset_name = \"datathon_ds_{}\".format(team_name)"
   ]
  },
  {
   "cell_type": "code",
   "execution_count": 2,
   "id": "209ec9e2-e26c-4f02-84ec-206bcb1a3fcb",
   "metadata": {
    "id": "209ec9e2-e26c-4f02-84ec-206bcb1a3fcb"
   },
   "outputs": [],
   "source": [
    "from google.cloud import bigquery\n",
    "from google.cloud.bigquery import Client, QueryJobConfig\n",
    "\n",
    "client = bigquery.Client(project=project_id)"
   ]
  },
  {
   "cell_type": "markdown",
   "id": "1jjaJyFyG00m",
   "metadata": {
    "id": "1jjaJyFyG00m"
   },
   "source": [
    "### **Step 2:** Data Exploration\n",
    "Get a feeling of the data and explore different facets and features"
   ]
  },
  {
   "cell_type": "markdown",
   "id": "4dc1d19a-e397-401d-85b8-5e3f7a441e7f",
   "metadata": {
    "id": "4dc1d19a-e397-401d-85b8-5e3f7a441e7f"
   },
   "source": [
    "To remember: This is how the final training dataset looks like\n",
    "\n",
    "| User Demographic Data | User Behavioral Data | Label\n",
    "| --- | --- | --- |\n",
    "| country | cnt_user_engagement | churned\n",
    "| operating_system | cnt_level_start_quickplay |  |\n",
    "| language | cnt_level_end_quickplay |  |\n",
    "|  |  cnt_level_complete_quickplay |  |\n",
    "|  |  cnt_level_reset_quickplay |  |\n",
    "|  |  cnt_post_score |  |\n",
    "|  |  cnt_spend_virtual_currency |  |\n",
    "|  |  cnt_ad_reward |  |\n",
    "|  |  cnt_challenge_a_friend |  |\n",
    "|  |  cnt_completed_5_levels |  |\n",
    "|  |  cnt_use_extra_steps |  |\n",
    "|  |  user_first_engagement |  | **bold text**"
   ]
  },
  {
   "cell_type": "code",
   "execution_count": 3,
   "id": "cf4e64a1-44d3-45ef-b310-5194d987a7c1",
   "metadata": {
    "colab": {
     "base_uri": "https://localhost:8080/",
     "height": 265
    },
    "executionInfo": {
     "elapsed": 7998,
     "status": "ok",
     "timestamp": 1656934987706,
     "user": {
      "displayName": "Amrit Raj",
      "userId": "11987938039820858613"
     },
     "user_tz": -120
    },
    "id": "cf4e64a1-44d3-45ef-b310-5194d987a7c1",
    "outputId": "b37dee16-8d19-4d00-c380-7f64fe609261"
   },
   "outputs": [
    {
     "data": {
      "text/html": [
       "<div>\n",
       "<style scoped>\n",
       "    .dataframe tbody tr th:only-of-type {\n",
       "        vertical-align: middle;\n",
       "    }\n",
       "\n",
       "    .dataframe tbody tr th {\n",
       "        vertical-align: top;\n",
       "    }\n",
       "\n",
       "    .dataframe thead th {\n",
       "        text-align: right;\n",
       "    }\n",
       "</style>\n",
       "<table border=\"1\" class=\"dataframe\">\n",
       "  <thead>\n",
       "    <tr style=\"text-align: right;\">\n",
       "      <th></th>\n",
       "      <th>user_pseudo_id</th>\n",
       "      <th>country</th>\n",
       "      <th>operating_system</th>\n",
       "      <th>language</th>\n",
       "      <th>cnt_user_engagement</th>\n",
       "      <th>cnt_level_start_quickplay</th>\n",
       "      <th>cnt_level_end_quickplay</th>\n",
       "      <th>cnt_level_complete_quickplay</th>\n",
       "      <th>cnt_level_reset_quickplay</th>\n",
       "      <th>cnt_post_score</th>\n",
       "      <th>cnt_spend_virtual_currency</th>\n",
       "      <th>cnt_ad_reward</th>\n",
       "      <th>cnt_challenge_a_friend</th>\n",
       "      <th>cnt_completed_5_levels</th>\n",
       "      <th>cnt_use_extra_steps</th>\n",
       "      <th>user_first_engagement</th>\n",
       "      <th>churned</th>\n",
       "    </tr>\n",
       "  </thead>\n",
       "  <tbody>\n",
       "    <tr>\n",
       "      <th>0</th>\n",
       "      <td>4F349267084BB476E7D496AA3422388B</td>\n",
       "      <td>United States</td>\n",
       "      <td>ANDROID</td>\n",
       "      <td>en-us</td>\n",
       "      <td>7</td>\n",
       "      <td>2</td>\n",
       "      <td>1</td>\n",
       "      <td>0</td>\n",
       "      <td>0</td>\n",
       "      <td>0</td>\n",
       "      <td>0</td>\n",
       "      <td>0</td>\n",
       "      <td>0</td>\n",
       "      <td>0</td>\n",
       "      <td>0</td>\n",
       "      <td>1529769862166004</td>\n",
       "      <td>0</td>\n",
       "    </tr>\n",
       "    <tr>\n",
       "      <th>1</th>\n",
       "      <td>F94E005EB49AFB8DA0A78030D4ABB44B</td>\n",
       "      <td>United States</td>\n",
       "      <td>ANDROID</td>\n",
       "      <td>en-us</td>\n",
       "      <td>8</td>\n",
       "      <td>4</td>\n",
       "      <td>2</td>\n",
       "      <td>2</td>\n",
       "      <td>1</td>\n",
       "      <td>2</td>\n",
       "      <td>0</td>\n",
       "      <td>0</td>\n",
       "      <td>0</td>\n",
       "      <td>0</td>\n",
       "      <td>0</td>\n",
       "      <td>1530299690915001</td>\n",
       "      <td>0</td>\n",
       "    </tr>\n",
       "    <tr>\n",
       "      <th>2</th>\n",
       "      <td>56C7AB443CB21553FF8690752E58BC79</td>\n",
       "      <td>United States</td>\n",
       "      <td>ANDROID</td>\n",
       "      <td>en-us</td>\n",
       "      <td>22</td>\n",
       "      <td>0</td>\n",
       "      <td>0</td>\n",
       "      <td>0</td>\n",
       "      <td>0</td>\n",
       "      <td>10</td>\n",
       "      <td>0</td>\n",
       "      <td>0</td>\n",
       "      <td>0</td>\n",
       "      <td>0</td>\n",
       "      <td>0</td>\n",
       "      <td>1533950048297006</td>\n",
       "      <td>1</td>\n",
       "    </tr>\n",
       "    <tr>\n",
       "      <th>3</th>\n",
       "      <td>D9A79CD45804EB82483DAB809D7B417C</td>\n",
       "      <td>Germany</td>\n",
       "      <td>ANDROID</td>\n",
       "      <td>de-de</td>\n",
       "      <td>7</td>\n",
       "      <td>2</td>\n",
       "      <td>1</td>\n",
       "      <td>1</td>\n",
       "      <td>0</td>\n",
       "      <td>1</td>\n",
       "      <td>1</td>\n",
       "      <td>0</td>\n",
       "      <td>0</td>\n",
       "      <td>0</td>\n",
       "      <td>1</td>\n",
       "      <td>1531053918021001</td>\n",
       "      <td>0</td>\n",
       "    </tr>\n",
       "    <tr>\n",
       "      <th>4</th>\n",
       "      <td>0CAAA1B6F161BA4D363EB7A2DEF64A08</td>\n",
       "      <td>United States</td>\n",
       "      <td>ANDROID</td>\n",
       "      <td>en-us</td>\n",
       "      <td>64</td>\n",
       "      <td>32</td>\n",
       "      <td>32</td>\n",
       "      <td>0</td>\n",
       "      <td>0</td>\n",
       "      <td>28</td>\n",
       "      <td>0</td>\n",
       "      <td>0</td>\n",
       "      <td>0</td>\n",
       "      <td>0</td>\n",
       "      <td>0</td>\n",
       "      <td>1529334029639003</td>\n",
       "      <td>0</td>\n",
       "    </tr>\n",
       "  </tbody>\n",
       "</table>\n",
       "</div>"
      ],
      "text/plain": [
       "                     user_pseudo_id        country operating_system language  \\\n",
       "0  4F349267084BB476E7D496AA3422388B  United States          ANDROID    en-us   \n",
       "1  F94E005EB49AFB8DA0A78030D4ABB44B  United States          ANDROID    en-us   \n",
       "2  56C7AB443CB21553FF8690752E58BC79  United States          ANDROID    en-us   \n",
       "3  D9A79CD45804EB82483DAB809D7B417C        Germany          ANDROID    de-de   \n",
       "4  0CAAA1B6F161BA4D363EB7A2DEF64A08  United States          ANDROID    en-us   \n",
       "\n",
       "   cnt_user_engagement  cnt_level_start_quickplay  cnt_level_end_quickplay  \\\n",
       "0                    7                          2                        1   \n",
       "1                    8                          4                        2   \n",
       "2                   22                          0                        0   \n",
       "3                    7                          2                        1   \n",
       "4                   64                         32                       32   \n",
       "\n",
       "   cnt_level_complete_quickplay  cnt_level_reset_quickplay  cnt_post_score  \\\n",
       "0                             0                          0               0   \n",
       "1                             2                          1               2   \n",
       "2                             0                          0              10   \n",
       "3                             1                          0               1   \n",
       "4                             0                          0              28   \n",
       "\n",
       "   cnt_spend_virtual_currency  cnt_ad_reward  cnt_challenge_a_friend  \\\n",
       "0                           0              0                       0   \n",
       "1                           0              0                       0   \n",
       "2                           0              0                       0   \n",
       "3                           1              0                       0   \n",
       "4                           0              0                       0   \n",
       "\n",
       "   cnt_completed_5_levels  cnt_use_extra_steps  user_first_engagement  churned  \n",
       "0                       0                    0       1529769862166004        0  \n",
       "1                       0                    0       1530299690915001        0  \n",
       "2                       0                    0       1533950048297006        1  \n",
       "3                       0                    1       1531053918021001        0  \n",
       "4                       0                    0       1529334029639003        0  "
      ]
     },
     "execution_count": 3,
     "metadata": {},
     "output_type": "execute_result"
    }
   ],
   "source": [
    "query = f\"\"\"SELECT * FROM `{dataset_name}.cc_train_dataset`\"\"\"\n",
    "job = client.query(query)\n",
    "df = job.to_dataframe()\n",
    "df.head()"
   ]
  },
  {
   "cell_type": "code",
   "execution_count": 4,
   "id": "N6bPe48HHdiF",
   "metadata": {
    "colab": {
     "base_uri": "https://localhost:8080/",
     "height": 476
    },
    "executionInfo": {
     "elapsed": 22,
     "status": "ok",
     "timestamp": 1656924726894,
     "user": {
      "displayName": "Amrit Raj",
      "userId": "11987938039820858613"
     },
     "user_tz": -120
    },
    "id": "N6bPe48HHdiF",
    "outputId": "dd1801cc-3ca2-4a0b-d419-ecf787f80ad2"
   },
   "outputs": [
    {
     "data": {
      "text/html": [
       "<div>\n",
       "<style scoped>\n",
       "    .dataframe tbody tr th:only-of-type {\n",
       "        vertical-align: middle;\n",
       "    }\n",
       "\n",
       "    .dataframe tbody tr th {\n",
       "        vertical-align: top;\n",
       "    }\n",
       "\n",
       "    .dataframe thead th {\n",
       "        text-align: right;\n",
       "    }\n",
       "</style>\n",
       "<table border=\"1\" class=\"dataframe\">\n",
       "  <thead>\n",
       "    <tr style=\"text-align: right;\">\n",
       "      <th></th>\n",
       "      <th>user_pseudo_id</th>\n",
       "      <th>country</th>\n",
       "      <th>operating_system</th>\n",
       "      <th>language</th>\n",
       "      <th>cnt_user_engagement</th>\n",
       "      <th>cnt_level_start_quickplay</th>\n",
       "      <th>cnt_level_end_quickplay</th>\n",
       "      <th>cnt_level_complete_quickplay</th>\n",
       "      <th>cnt_level_reset_quickplay</th>\n",
       "      <th>cnt_post_score</th>\n",
       "      <th>cnt_spend_virtual_currency</th>\n",
       "      <th>cnt_ad_reward</th>\n",
       "      <th>cnt_challenge_a_friend</th>\n",
       "      <th>cnt_completed_5_levels</th>\n",
       "      <th>cnt_use_extra_steps</th>\n",
       "      <th>user_first_engagement</th>\n",
       "      <th>churned</th>\n",
       "    </tr>\n",
       "  </thead>\n",
       "  <tbody>\n",
       "    <tr>\n",
       "      <th>count</th>\n",
       "      <td>6386</td>\n",
       "      <td>6386</td>\n",
       "      <td>6183</td>\n",
       "      <td>6386</td>\n",
       "      <td>6386.000000</td>\n",
       "      <td>6386.000000</td>\n",
       "      <td>6386.000000</td>\n",
       "      <td>6386.000000</td>\n",
       "      <td>6386.000000</td>\n",
       "      <td>6386.000000</td>\n",
       "      <td>6386.000000</td>\n",
       "      <td>6386.000000</td>\n",
       "      <td>6386.000000</td>\n",
       "      <td>6386.000000</td>\n",
       "      <td>6386.000000</td>\n",
       "      <td>6.386000e+03</td>\n",
       "      <td>6386.000000</td>\n",
       "    </tr>\n",
       "    <tr>\n",
       "      <th>unique</th>\n",
       "      <td>6386</td>\n",
       "      <td>118</td>\n",
       "      <td>2</td>\n",
       "      <td>138</td>\n",
       "      <td>NaN</td>\n",
       "      <td>NaN</td>\n",
       "      <td>NaN</td>\n",
       "      <td>NaN</td>\n",
       "      <td>NaN</td>\n",
       "      <td>NaN</td>\n",
       "      <td>NaN</td>\n",
       "      <td>NaN</td>\n",
       "      <td>NaN</td>\n",
       "      <td>NaN</td>\n",
       "      <td>NaN</td>\n",
       "      <td>NaN</td>\n",
       "      <td>NaN</td>\n",
       "    </tr>\n",
       "    <tr>\n",
       "      <th>top</th>\n",
       "      <td>4F349267084BB476E7D496AA3422388B</td>\n",
       "      <td>United States</td>\n",
       "      <td>IOS</td>\n",
       "      <td>en-us</td>\n",
       "      <td>NaN</td>\n",
       "      <td>NaN</td>\n",
       "      <td>NaN</td>\n",
       "      <td>NaN</td>\n",
       "      <td>NaN</td>\n",
       "      <td>NaN</td>\n",
       "      <td>NaN</td>\n",
       "      <td>NaN</td>\n",
       "      <td>NaN</td>\n",
       "      <td>NaN</td>\n",
       "      <td>NaN</td>\n",
       "      <td>NaN</td>\n",
       "      <td>NaN</td>\n",
       "    </tr>\n",
       "    <tr>\n",
       "      <th>freq</th>\n",
       "      <td>1</td>\n",
       "      <td>3506</td>\n",
       "      <td>3152</td>\n",
       "      <td>3837</td>\n",
       "      <td>NaN</td>\n",
       "      <td>NaN</td>\n",
       "      <td>NaN</td>\n",
       "      <td>NaN</td>\n",
       "      <td>NaN</td>\n",
       "      <td>NaN</td>\n",
       "      <td>NaN</td>\n",
       "      <td>NaN</td>\n",
       "      <td>NaN</td>\n",
       "      <td>NaN</td>\n",
       "      <td>NaN</td>\n",
       "      <td>NaN</td>\n",
       "      <td>NaN</td>\n",
       "    </tr>\n",
       "    <tr>\n",
       "      <th>mean</th>\n",
       "      <td>NaN</td>\n",
       "      <td>NaN</td>\n",
       "      <td>NaN</td>\n",
       "      <td>NaN</td>\n",
       "      <td>30.538209</td>\n",
       "      <td>7.765581</td>\n",
       "      <td>4.938459</td>\n",
       "      <td>2.093642</td>\n",
       "      <td>1.941121</td>\n",
       "      <td>4.872847</td>\n",
       "      <td>0.447072</td>\n",
       "      <td>0.059192</td>\n",
       "      <td>0.018948</td>\n",
       "      <td>0.133104</td>\n",
       "      <td>0.401660</td>\n",
       "      <td>-1.356218e+15</td>\n",
       "      <td>0.234262</td>\n",
       "    </tr>\n",
       "    <tr>\n",
       "      <th>std</th>\n",
       "      <td>NaN</td>\n",
       "      <td>NaN</td>\n",
       "      <td>NaN</td>\n",
       "      <td>NaN</td>\n",
       "      <td>52.468331</td>\n",
       "      <td>26.602648</td>\n",
       "      <td>16.759185</td>\n",
       "      <td>10.233683</td>\n",
       "      <td>16.480642</td>\n",
       "      <td>14.401616</td>\n",
       "      <td>1.877727</td>\n",
       "      <td>0.675517</td>\n",
       "      <td>0.251139</td>\n",
       "      <td>0.363327</td>\n",
       "      <td>1.757354</td>\n",
       "      <td>2.995785e+12</td>\n",
       "      <td>0.423570</td>\n",
       "    </tr>\n",
       "    <tr>\n",
       "      <th>min</th>\n",
       "      <td>NaN</td>\n",
       "      <td>NaN</td>\n",
       "      <td>NaN</td>\n",
       "      <td>NaN</td>\n",
       "      <td>1.000000</td>\n",
       "      <td>0.000000</td>\n",
       "      <td>0.000000</td>\n",
       "      <td>0.000000</td>\n",
       "      <td>0.000000</td>\n",
       "      <td>0.000000</td>\n",
       "      <td>0.000000</td>\n",
       "      <td>0.000000</td>\n",
       "      <td>0.000000</td>\n",
       "      <td>0.000000</td>\n",
       "      <td>0.000000</td>\n",
       "      <td>1.528787e+15</td>\n",
       "      <td>0.000000</td>\n",
       "    </tr>\n",
       "    <tr>\n",
       "      <th>25%</th>\n",
       "      <td>NaN</td>\n",
       "      <td>NaN</td>\n",
       "      <td>NaN</td>\n",
       "      <td>NaN</td>\n",
       "      <td>6.000000</td>\n",
       "      <td>0.000000</td>\n",
       "      <td>0.000000</td>\n",
       "      <td>0.000000</td>\n",
       "      <td>0.000000</td>\n",
       "      <td>0.000000</td>\n",
       "      <td>0.000000</td>\n",
       "      <td>0.000000</td>\n",
       "      <td>0.000000</td>\n",
       "      <td>0.000000</td>\n",
       "      <td>0.000000</td>\n",
       "      <td>1.529774e+15</td>\n",
       "      <td>0.000000</td>\n",
       "    </tr>\n",
       "    <tr>\n",
       "      <th>50%</th>\n",
       "      <td>NaN</td>\n",
       "      <td>NaN</td>\n",
       "      <td>NaN</td>\n",
       "      <td>NaN</td>\n",
       "      <td>14.000000</td>\n",
       "      <td>2.000000</td>\n",
       "      <td>1.000000</td>\n",
       "      <td>0.000000</td>\n",
       "      <td>0.000000</td>\n",
       "      <td>1.000000</td>\n",
       "      <td>0.000000</td>\n",
       "      <td>0.000000</td>\n",
       "      <td>0.000000</td>\n",
       "      <td>0.000000</td>\n",
       "      <td>0.000000</td>\n",
       "      <td>1.531470e+15</td>\n",
       "      <td>0.000000</td>\n",
       "    </tr>\n",
       "    <tr>\n",
       "      <th>75%</th>\n",
       "      <td>NaN</td>\n",
       "      <td>NaN</td>\n",
       "      <td>NaN</td>\n",
       "      <td>NaN</td>\n",
       "      <td>34.000000</td>\n",
       "      <td>7.000000</td>\n",
       "      <td>4.000000</td>\n",
       "      <td>1.000000</td>\n",
       "      <td>0.000000</td>\n",
       "      <td>5.000000</td>\n",
       "      <td>0.000000</td>\n",
       "      <td>0.000000</td>\n",
       "      <td>0.000000</td>\n",
       "      <td>0.000000</td>\n",
       "      <td>0.000000</td>\n",
       "      <td>1.535155e+15</td>\n",
       "      <td>0.000000</td>\n",
       "    </tr>\n",
       "    <tr>\n",
       "      <th>max</th>\n",
       "      <td>NaN</td>\n",
       "      <td>NaN</td>\n",
       "      <td>NaN</td>\n",
       "      <td>NaN</td>\n",
       "      <td>928.000000</td>\n",
       "      <td>832.000000</td>\n",
       "      <td>655.000000</td>\n",
       "      <td>595.000000</td>\n",
       "      <td>751.000000</td>\n",
       "      <td>595.000000</td>\n",
       "      <td>52.000000</td>\n",
       "      <td>29.000000</td>\n",
       "      <td>9.000000</td>\n",
       "      <td>4.000000</td>\n",
       "      <td>52.000000</td>\n",
       "      <td>1.538620e+15</td>\n",
       "      <td>1.000000</td>\n",
       "    </tr>\n",
       "  </tbody>\n",
       "</table>\n",
       "</div>"
      ],
      "text/plain": [
       "                          user_pseudo_id        country operating_system  \\\n",
       "count                               6386           6386             6183   \n",
       "unique                              6386            118                2   \n",
       "top     4F349267084BB476E7D496AA3422388B  United States              IOS   \n",
       "freq                                   1           3506             3152   \n",
       "mean                                 NaN            NaN              NaN   \n",
       "std                                  NaN            NaN              NaN   \n",
       "min                                  NaN            NaN              NaN   \n",
       "25%                                  NaN            NaN              NaN   \n",
       "50%                                  NaN            NaN              NaN   \n",
       "75%                                  NaN            NaN              NaN   \n",
       "max                                  NaN            NaN              NaN   \n",
       "\n",
       "       language  cnt_user_engagement  cnt_level_start_quickplay  \\\n",
       "count      6386          6386.000000                6386.000000   \n",
       "unique      138                  NaN                        NaN   \n",
       "top       en-us                  NaN                        NaN   \n",
       "freq       3837                  NaN                        NaN   \n",
       "mean        NaN            30.538209                   7.765581   \n",
       "std         NaN            52.468331                  26.602648   \n",
       "min         NaN             1.000000                   0.000000   \n",
       "25%         NaN             6.000000                   0.000000   \n",
       "50%         NaN            14.000000                   2.000000   \n",
       "75%         NaN            34.000000                   7.000000   \n",
       "max         NaN           928.000000                 832.000000   \n",
       "\n",
       "        cnt_level_end_quickplay  cnt_level_complete_quickplay  \\\n",
       "count               6386.000000                   6386.000000   \n",
       "unique                      NaN                           NaN   \n",
       "top                         NaN                           NaN   \n",
       "freq                        NaN                           NaN   \n",
       "mean                   4.938459                      2.093642   \n",
       "std                   16.759185                     10.233683   \n",
       "min                    0.000000                      0.000000   \n",
       "25%                    0.000000                      0.000000   \n",
       "50%                    1.000000                      0.000000   \n",
       "75%                    4.000000                      1.000000   \n",
       "max                  655.000000                    595.000000   \n",
       "\n",
       "        cnt_level_reset_quickplay  cnt_post_score  cnt_spend_virtual_currency  \\\n",
       "count                 6386.000000     6386.000000                 6386.000000   \n",
       "unique                        NaN             NaN                         NaN   \n",
       "top                           NaN             NaN                         NaN   \n",
       "freq                          NaN             NaN                         NaN   \n",
       "mean                     1.941121        4.872847                    0.447072   \n",
       "std                     16.480642       14.401616                    1.877727   \n",
       "min                      0.000000        0.000000                    0.000000   \n",
       "25%                      0.000000        0.000000                    0.000000   \n",
       "50%                      0.000000        1.000000                    0.000000   \n",
       "75%                      0.000000        5.000000                    0.000000   \n",
       "max                    751.000000      595.000000                   52.000000   \n",
       "\n",
       "        cnt_ad_reward  cnt_challenge_a_friend  cnt_completed_5_levels  \\\n",
       "count     6386.000000             6386.000000             6386.000000   \n",
       "unique            NaN                     NaN                     NaN   \n",
       "top               NaN                     NaN                     NaN   \n",
       "freq              NaN                     NaN                     NaN   \n",
       "mean         0.059192                0.018948                0.133104   \n",
       "std          0.675517                0.251139                0.363327   \n",
       "min          0.000000                0.000000                0.000000   \n",
       "25%          0.000000                0.000000                0.000000   \n",
       "50%          0.000000                0.000000                0.000000   \n",
       "75%          0.000000                0.000000                0.000000   \n",
       "max         29.000000                9.000000                4.000000   \n",
       "\n",
       "        cnt_use_extra_steps  user_first_engagement      churned  \n",
       "count           6386.000000           6.386000e+03  6386.000000  \n",
       "unique                  NaN                    NaN          NaN  \n",
       "top                     NaN                    NaN          NaN  \n",
       "freq                    NaN                    NaN          NaN  \n",
       "mean               0.401660          -1.356218e+15     0.234262  \n",
       "std                1.757354           2.995785e+12     0.423570  \n",
       "min                0.000000           1.528787e+15     0.000000  \n",
       "25%                0.000000           1.529774e+15     0.000000  \n",
       "50%                0.000000           1.531470e+15     0.000000  \n",
       "75%                0.000000           1.535155e+15     0.000000  \n",
       "max               52.000000           1.538620e+15     1.000000  "
      ]
     },
     "execution_count": 4,
     "metadata": {},
     "output_type": "execute_result"
    }
   ],
   "source": [
    "df.describe(include='all')"
   ]
  },
  {
   "cell_type": "code",
   "execution_count": 5,
   "id": "dfd30813-76c3-4b69-8e71-3ec148ab9065",
   "metadata": {
    "colab": {
     "base_uri": "https://localhost:8080/",
     "height": 266
    },
    "executionInfo": {
     "elapsed": 481,
     "status": "ok",
     "timestamp": 1656924731145,
     "user": {
      "displayName": "Amrit Raj",
      "userId": "11987938039820858613"
     },
     "user_tz": -120
    },
    "id": "dfd30813-76c3-4b69-8e71-3ec148ab9065",
    "outputId": "7fadd15a-40c4-44d3-fc69-02f5d291b127"
   },
   "outputs": [
    {
     "data": {
      "text/plain": [
       "<AxesSubplot:ylabel='operating_system'>"
      ]
     },
     "execution_count": 5,
     "metadata": {},
     "output_type": "execute_result"
    },
    {
     "data": {
      "image/png": "[encoded data removed]",
      "text/plain": [
       "<Figure size 640x480 with 2 Axes>"
      ]
     },
     "metadata": {},
     "output_type": "display_data"
    }
   ],
   "source": [
    "import matplotlib.pyplot as plt\n",
    "\n",
    "fig, axes = plt.subplots(nrows=1, ncols=2)\n",
    "plt.subplots_adjust(right=2.0)\n",
    "\n",
    "# which country do users belong to?\n",
    "df.country.value_counts(sort=True)[:5].plot(kind='pie',ax=axes[0])\n",
    "# which operating system is widely used?\n",
    "df.operating_system.value_counts().plot(kind='pie', ax=axes[1])"
   ]
  },
  {
   "cell_type": "code",
   "execution_count": 6,
   "id": "c0e57848-c796-41f0-a410-541b9a8bc962",
   "metadata": {
    "colab": {
     "base_uri": "https://localhost:8080/",
     "height": 266
    },
    "executionInfo": {
     "elapsed": 472,
     "status": "ok",
     "timestamp": 1656924734420,
     "user": {
      "displayName": "Amrit Raj",
      "userId": "11987938039820858613"
     },
     "user_tz": -120
    },
    "id": "c0e57848-c796-41f0-a410-541b9a8bc962",
    "outputId": "ffab019b-52d8-415e-93ff-5e0f042d6fe7"
   },
   "outputs": [
    {
     "data": {
      "text/plain": [
       "<AxesSubplot:ylabel='churned'>"
      ]
     },
     "execution_count": 6,
     "metadata": {},
     "output_type": "execute_result"
    },
    {
     "data": {
      "image/png": "[encoded data removed]",
      "text/plain": [
       "<Figure size 640x480 with 1 Axes>"
      ]
     },
     "metadata": {},
     "output_type": "display_data"
    }
   ],
   "source": [
    "# How many users churned?\n",
    "df.churned.value_counts().plot(kind='pie')"
   ]
  },
  {
   "cell_type": "markdown",
   "id": "433e28c9-cd11-418b-8731-61ba2f61660c",
   "metadata": {
    "id": "433e28c9-cd11-418b-8731-61ba2f61660c"
   },
   "source": [
    "## **Step 3:** Train Propensity Churn Model"
   ]
  },
  {
   "cell_type": "markdown",
   "id": "d74ce070-0b26-4aea-b164-231fdbd87322",
   "metadata": {
    "id": "d74ce070-0b26-4aea-b164-231fdbd87322"
   },
   "source": [
    "Which model should we use for our use case?\n",
    "* List of classification [models](https://cloud.google.com/bigquery-ml/docs/reference/standard-sql/bigqueryml-syntax-create-glm) in BQ to explore (Tip: Keep in mind the training time for more complex models ⏰)\n",
    "  *  Logistic Regression\n",
    "  *  Boosted Trees\n",
    "  *  Deep Neural Networks\n",
    "  *  Wide and Deep Networks\n",
    "  *  AutoML tables\n",
    "\n",
    "Feel free to switch the BQ UI to run your queries there.\n",
    "Save your progress by saving your queries through the editor.\n",
    "\n",
    "\n",
    "\n"
   ]
  },
  {
   "cell_type": "markdown",
   "id": "Jpmc5_QW1MPx",
   "metadata": {
    "id": "Jpmc5_QW1MPx"
   },
   "source": [
    "**Now it is your turn to train a model usign BQML !!**"
   ]
  },
  {
   "cell_type": "code",
   "execution_count": null,
   "id": "5qfOrzcH1SV6",
   "metadata": {
    "colab": {
     "base_uri": "https://localhost:8080/",
     "height": 49
    },
    "executionInfo": {
     "elapsed": 98014,
     "status": "ok",
     "timestamp": 1656925014844,
     "user": {
      "displayName": "Amrit Raj",
      "userId": "11987938039820858613"
     },
     "user_tz": -120
    },
    "id": "5qfOrzcH1SV6",
    "outputId": "8140bb36-118f-4e17-a7fd-54490836ed26"
   },
   "outputs": [
    {
     "data": {
      "text/html": [
       "\n",
       "  <div id=\"df-2ad31470-f814-4e4e-a173-47fe963e7354\">\n",
       "    <div class=\"colab-df-container\">\n",
       "      <div>\n",
       "<style scoped>\n",
       "    .dataframe tbody tr th:only-of-type {\n",
       "        vertical-align: middle;\n",
       "    }\n",
       "\n",
       "    .dataframe tbody tr th {\n",
       "        vertical-align: top;\n",
       "    }\n",
       "\n",
       "    .dataframe thead th {\n",
       "        text-align: right;\n",
       "    }\n",
       "</style>\n",
       "<table border=\"1\" class=\"dataframe\">\n",
       "  <thead>\n",
       "    <tr style=\"text-align: right;\">\n",
       "      <th></th>\n",
       "    </tr>\n",
       "  </thead>\n",
       "  <tbody>\n",
       "  </tbody>\n",
       "</table>\n",
       "</div>\n",
       "      <button class=\"colab-df-convert\" onclick=\"convertToInteractive('df-2ad31470-f814-4e4e-a173-47fe963e7354')\"\n",
       "              title=\"Convert this dataframe to an interactive table.\"\n",
       "              style=\"display:none;\">\n",
       "        \n",
       "  <svg xmlns=\"http://www.w3.org/2000/svg\" height=\"24px\"viewBox=\"0 0 24 24\"\n",
       "       width=\"24px\">\n",
       "    <path d=\"M0 0h24v24H0V0z\" fill=\"none\"/>\n",
       "    <path d=\"M18.56 5.44l.94 2.06.94-2.06 2.06-.94-2.06-.94-.94-2.06-.94 2.06-2.06.94zm-11 1L8.5 8.5l.94-2.06 2.06-.94-2.06-.94L8.5 2.5l-.94 2.06-2.06.94zm10 10l.94 2.06.94-2.06 2.06-.94-2.06-.94-.94-2.06-.94 2.06-2.06.94z\"/><path d=\"M17.41 7.96l-1.37-1.37c-.4-.4-.92-.59-1.43-.59-.52 0-1.04.2-1.43.59L10.3 9.45l-7.72 7.72c-.78.78-.78 2.05 0 2.83L4 21.41c.39.39.9.59 1.41.59.51 0 1.02-.2 1.41-.59l7.78-7.78 2.81-2.81c.8-.78.8-2.07 0-2.86zM5.41 20L4 18.59l7.72-7.72 1.47 1.35L5.41 20z\"/>\n",
       "  </svg>\n",
       "      </button>\n",
       "      \n",
       "  <style>\n",
       "    .colab-df-container {\n",
       "      display:flex;\n",
       "      flex-wrap:wrap;\n",
       "      gap: 12px;\n",
       "    }\n",
       "\n",
       "    .colab-df-convert {\n",
       "      background-color: #E8F0FE;\n",
       "      border: none;\n",
       "      border-radius: 50%;\n",
       "      cursor: pointer;\n",
       "      display: none;\n",
       "      fill: #1967D2;\n",
       "      height: 32px;\n",
       "      padding: 0 0 0 0;\n",
       "      width: 32px;\n",
       "    }\n",
       "\n",
       "    .colab-df-convert:hover {\n",
       "      background-color: #E2EBFA;\n",
       "      box-shadow: 0px 1px 2px rgba(60, 64, 67, 0.3), 0px 1px 3px 1px rgba(60, 64, 67, 0.15);\n",
       "      fill: #174EA6;\n",
       "    }\n",
       "\n",
       "    [theme=dark] .colab-df-convert {\n",
       "      background-color: #3B4455;\n",
       "      fill: #D2E3FC;\n",
       "    }\n",
       "\n",
       "    [theme=dark] .colab-df-convert:hover {\n",
       "      background-color: #434B5C;\n",
       "      box-shadow: 0px 1px 3px 1px rgba(0, 0, 0, 0.15);\n",
       "      filter: drop-shadow(0px 1px 2px rgba(0, 0, 0, 0.3));\n",
       "      fill: #FFFFFF;\n",
       "    }\n",
       "  </style>\n",
       "\n",
       "      <script>\n",
       "        const buttonEl =\n",
       "          document.querySelector('#df-2ad31470-f814-4e4e-a173-47fe963e7354 button.colab-df-convert');\n",
       "        buttonEl.style.display =\n",
       "          google.colab.kernel.accessAllowed ? 'block' : 'none';\n",
       "\n",
       "        async function convertToInteractive(key) {\n",
       "          const element = document.querySelector('#df-2ad31470-f814-4e4e-a173-47fe963e7354');\n",
       "          const dataTable =\n",
       "            await google.colab.kernel.invokeFunction('convertToInteractive',\n",
       "                                                     [key], {});\n",
       "          if (!dataTable) return;\n",
       "\n",
       "          const docLinkHtml = 'Like what you see? Visit the ' +\n",
       "            '<a target=\"_blank\" href=https://colab.research.google.com/notebooks/data_table.ipynb>data table notebook</a>'\n",
       "            + ' to learn more about interactive tables.';\n",
       "          element.innerHTML = '';\n",
       "          dataTable['output_type'] = 'display_data';\n",
       "          await google.colab.output.renderOutput(dataTable, element);\n",
       "          const docLink = document.createElement('div');\n",
       "          docLink.innerHTML = docLinkHtml;\n",
       "          element.appendChild(docLink);\n",
       "        }\n",
       "      </script>\n",
       "    </div>\n",
       "  </div>\n",
       "  "
      ],
      "text/plain": [
       "Empty DataFrame\n",
       "Columns: []\n",
       "Index: []"
      ]
     },
     "execution_count": 8,
     "metadata": {},
     "output_type": "execute_result"
    }
   ],
   "source": [
    "%%bigquery --project $project_id\n",
    "\n",
    "CREATE MODEL `<model-name>`\n",
    "OPTIONS(MODEL_TYPE='<type>',\n",
    "        INPUT_LABEL_COLS = ['<label>'])\n",
    "AS\n",
    "SELECT * EXCEPT (user_pseudo_id)\n",
    "FROM `<train-dataset>`"
   ]
  },
  {
   "cell_type": "markdown",
   "id": "OMNBrx0fD4Iu",
   "metadata": {
    "id": "OMNBrx0fD4Iu"
   },
   "source": [
    "### **Feature Engineering**: How about we create new features from the user_first_engagement timestamp field?\n",
    "\n",
    "Let's use the [TRANSFORM](https://cloud.google.com/bigquery-ml/docs/bigqueryml-transform) method in BigQuery ML to extract month, day of year, day of week and hour from the user_first_enagagement field.\n",
    "\n",
    "Using the TRANSFORM clause, you can specify all preprocessing during model creation. The preprocessing is **automatically** applied during the prediction and evaluation phases of machine learning 😎"
   ]
  },
  {
   "cell_type": "markdown",
   "id": "N6qhC-erIyGG",
   "metadata": {
    "id": "N6qhC-erIyGG"
   },
   "source": [
    "Hint: Use the [EXTRACT](https://cloud.google.com/bigquery/docs/reference/standard-sql/date_functions#extract) and [TIMESTAMP_MICROS](https://cloud.google.com/bigquery/docs/reference/standard-sql/timestamp_functions#timestamp_micros) functions"
   ]
  },
  {
   "cell_type": "code",
   "execution_count": null,
   "id": "FdZrvf4YFLhq",
   "metadata": {
    "id": "FdZrvf4YFLhq"
   },
   "outputs": [],
   "source": [
    "%%bigquery --project $project_id\n",
    "CREATE MODEL `<model-name>`\n",
    "\n",
    "TRANSFORM(\n",
    "  EXTRACT(<..>) as month,\n",
    "  EXTRACT(<..>) as julianday,\n",
    "  EXTRACT(<..>) as dayofweek,\n",
    "  EXTRACT(<..>) as hour,\n",
    "  * EXCEPT(user_first_engagement, user_pseudo_id)\n",
    ")\n",
    "\n",
    "OPTIONS(MODEL_TYPE='<model-type>',\n",
    "        INPUT_LABEL_COLS = ['<label>'])\n",
    "AS\n",
    "SELECT *\n",
    "FROM `<train-dataset>`"
   ]
  },
  {
   "cell_type": "markdown",
   "id": "edd5fa1b-0886-4d92-ab7c-32e614af87fc",
   "metadata": {
    "id": "edd5fa1b-0886-4d92-ab7c-32e614af87fc"
   },
   "source": [
    "## Step 5: Evaluate Model"
   ]
  },
  {
   "cell_type": "markdown",
   "id": "ik4jjBigbAXL",
   "metadata": {
    "id": "ik4jjBigbAXL"
   },
   "source": [
    "**Let**'s evaluate our model performance on the previously created evaluation view. Evaluation datasets are a useful way to tune your models accuracy before testing in production."
   ]
  },
  {
   "cell_type": "code",
   "execution_count": null,
   "id": "uFnloB8bCRpN",
   "metadata": {
    "id": "uFnloB8bCRpN"
   },
   "outputs": [],
   "source": [
    "%%bigquery --project $project_id\n",
    "SELECT\n",
    "  *\n",
    "FROM\n",
    "  ML.EVALUATE(MODEL `<model-name>`,\n",
    "    (\n",
    "    SELECT * EXCEPT(user_pseudo_id)\n",
    "    FROM\n",
    "      `<eval-dataset>`)\n",
    "    )"
   ]
  }
 ],
 "metadata": {
  "colab": {
   "provenance": [
    {
     "file_id": "1vbWqTaE2kgNjYLhxOkD_U8pCM6xdkoxm",
     "timestamp": 1656942192443
    },
    {
     "file_id": "1rcZkkOxAcnNCydTXfFxdBRbw5Z5zncl2",
     "timestamp": 1656923027322
    }
   ]
  },
  "environment": {
   "kernel": "python3",
   "name": "common-cpu.m107",
   "type": "gcloud",
   "uri": "gcr.io/deeplearning-platform-release/base-cpu:m107"
  },
  "kernelspec": {
   "display_name": "Python 3 (ipykernel)",
   "language": "python",
   "name": "python3"
  },
  "language_info": {
   "codemirror_mode": {
    "name": "ipython",
    "version": 3
   },
   "file_extension": ".py",
   "mimetype": "text/x-python",
   "name": "python",
   "nbconvert_exporter": "python",
   "pygments_lexer": "ipython3",
   "version": "3.8.7"
  }
 },
 "nbformat": 4,
 "nbformat_minor": 5
}
