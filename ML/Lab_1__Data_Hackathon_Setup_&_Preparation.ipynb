{
 "cells": [
  {
   "cell_type": "code",
   "execution_count": 1,
   "metadata": {},
   "outputs": [],
   "source": [
    "# Copyright 2023 Google LLC\n",
    "#\n",
    "# Licensed under the Apache License, Version 2.0 (the \"License\");\n",
    "# you may not use this file except in compliance with the License.\n",
    "# You may obtain a copy of the License at\n",
    "#\n",
    "#     https://www.apache.org/licenses/LICENSE-2.0\n",
    "#\n",
    "# Unless required by applicable law or agreed to in writing, software\n",
    "# distributed under the License is distributed on an \"AS IS\" BASIS,\n",
    "# WITHOUT WARRANTIES OR CONDITIONS OF ANY KIND, either express or implied.\n",
    "# See the License for the specific language governing permissions and\n",
    "# limitations under the License."
   ]
  },
  {
   "cell_type": "markdown",
   "metadata": {
    "id": "_TFkjzedQKR9",
    "tags": []
   },
   "source": [
    "# **Lab 1:** Datathon Preparation\n",
    "This notebooks sets up the enrvironment and prepares the datasets from the original events data \n",
    "\n"
   ]
  },
  {
   "cell_type": "markdown",
   "metadata": {
    "id": "OJ1XZxTPkvsL"
   },
   "source": [
    "![overview](assets/overview.png)"
   ]
  },
  {
   "cell_type": "markdown",
   "metadata": {
    "id": "my-fGMqmNxZM"
   },
   "source": [
    "### **Step 1:** Parameters and Authentication\n",
    "Authenticate yourself against Google Cloud Platform."
   ]
  },
  {
   "cell_type": "code",
   "execution_count": null,
   "metadata": {
    "id": "pGwpOfseKFRP"
   },
   "outputs": [],
   "source": [
    "project_id = \"\" \n",
    "team_name  = \"\" \n",
    "\n",
    "location   = \"us\" \n",
    "dataset_name = \"datathon_ds_{}\".format(team_name)"
   ]
  },
  {
   "cell_type": "code",
   "execution_count": null,
   "metadata": {
    "id": "IxIxhR9qNb6C"
   },
   "outputs": [],
   "source": [
    "from google.cloud import bigquery\n",
    "\n",
    "client = bigquery.Client(project=project_id)"
   ]
  },
  {
   "cell_type": "markdown",
   "metadata": {
    "id": "ySL_6DB8N-9W"
   },
   "source": [
    "### **Step 2:** Create the Team Dataset\n",
    "Create a dataset for your team. We do using the command line bq command that is installed in a CoLab. "
   ]
  },
  {
   "cell_type": "code",
   "execution_count": null,
   "metadata": {
    "colab": {
     "base_uri": "https://localhost:8080/"
    },
    "id": "Nb-cuRBCNORF",
    "outputId": "bccd05e1-eb64-459e-aab8-351aa3e65389"
   },
   "outputs": [],
   "source": [
    "!bq mk --location=$location --dataset $project_id:$dataset_name"
   ]
  },
  {
   "cell_type": "markdown",
   "metadata": {
    "id": "tE1-FrCdBKIr"
   },
   "source": [
    "Let's check if the dataset is existing. Just list all the datasets in the project. We can do this also via the BQ python library:"
   ]
  },
  {
   "cell_type": "code",
   "execution_count": null,
   "metadata": {
    "colab": {
     "base_uri": "https://localhost:8080/"
    },
    "id": "dDQoJAJKNOXH",
    "outputId": "68b26aa9-9d7f-4932-a0d6-13cedc633c99"
   },
   "outputs": [],
   "source": [
    "for dataset in client.list_datasets():\n",
    "  print(dataset.dataset_id)"
   ]
  },
  {
   "cell_type": "markdown",
   "metadata": {
    "id": "uKGfZpydBWKD"
   },
   "source": [
    "### **Step 3:** Test Access to Raw Dataset\n",
    "Check if the access to the dataset is working properly. This time we use BigQuery magic (pre-installed in CoLab and Vertex Workbenchs) to execute a BigQuery query directly from here:  "
   ]
  },
  {
   "cell_type": "code",
   "execution_count": null,
   "metadata": {
    "colab": {
     "base_uri": "https://localhost:8080/",
     "height": 479,
     "referenced_widgets": [
      "620f7c122b414c3da9d918a46f45b59a",
      "e7c2fa03bcad46888d3dd27ca7bf9d2b",
      "c4e4080c5f324bcb8fbd3dddbda33887",
      "e135e3b0c3584e4ebcbbebd05b301880",
      "0e9a26863a9a430aa0cf3c67806f4422",
      "44caa340db5f46cbac6825b810dd8565",
      "4cb1534d53c74e75a2086e525057401b",
      "60d8e67fc0c641f0855caff46b210776",
      "829a2ade10b249bf8f9d9fe260fca10a",
      "ca77df6babda4221a1239111870412cc",
      "bf2422a5d1894461b98e21c893221b98",
      "49f1192958da44aebec489166df8fa71",
      "88734968e13f47d8b0ceb143c0e2110b",
      "4b1e49cf9ac64a0c9bf757ca64d0b9e1",
      "a6b3f8a2cfbb4efab59133e4dcc92da5",
      "02cc7be65d3b44e6a41677b5975cb08e",
      "e6c8e7b741b942be9022aca94b64e0a5",
      "5a08fb1aaed7445a94b17d76d6874ada",
      "0ad2733d58cc49b19476af4b3e43f211",
      "13f8ce80eb534f58b5999b7b3db82bcb",
      "79458f8cbe074265a72e778025687dbf",
      "2d4a215db1df4602b5c4a1e92f31f24f"
     ]
    },
    "id": "Ug9Kn9RDOxSM",
    "outputId": "e6c509a1-1d6f-49e7-d6c9-1a7986d4595f"
   },
   "outputs": [],
   "source": [
    "%%bigquery --project $project_id\n",
    "\n",
    "SELECT *\n",
    "FROM `firebase-public-project.analytics_153293282.events_*`\n",
    "LIMIT 3"
   ]
  },
  {
   "cell_type": "markdown",
   "metadata": {
    "id": "W-PhQrKZPWEv"
   },
   "source": [
    "### **Step 4:** Data Preparation\n",
    "Now we prepare some Views on top of the dataset. These views already execute some data preparations and feature engineering tasks. We will come back to the details of this later. "
   ]
  },
  {
   "cell_type": "markdown",
   "metadata": {
    "id": "3D7H1SNinT63"
   },
   "source": [
    "![overview_2](assets/overview-2.png)"
   ]
  },
  {
   "cell_type": "markdown",
   "metadata": {
    "id": "eBlPq0gePa5B"
   },
   "source": [
    "**View 1** analyzes the user and its first and latest appearance.  \n",
    "\n",
    "This view aggregates the first and the last engagement of by user and defines a churned user\n",
    "\n",
    "Our label field/column is **Churned** i.e If last activity was within 24h of sign up\n"
   ]
  },
  {
   "cell_type": "code",
   "execution_count": null,
   "metadata": {
    "colab": {
     "base_uri": "https://localhost:8080/"
    },
    "id": "f2rVqiRjPMhS",
    "outputId": "92cc2bdf-79f5-435f-dd4a-dda9ed9b4326"
   },
   "outputs": [],
   "source": [
    "view_id  = \"{}.{}.user_returninginfo\".format(project_id, dataset_name)\n",
    "view     = bigquery.Table(view_id)\n",
    "\n",
    "view.view_query = f'''\n",
    "WITH firstlasttouch AS (\n",
    "    SELECT\n",
    "      user_pseudo_id,\n",
    "      MIN(event_timestamp) AS user_first_engagement,\n",
    "      MAX(event_timestamp) AS user_last_engagement\n",
    "    FROM\n",
    "      `firebase-public-project.analytics_153293282.events_*`\n",
    "    WHERE event_name=\"user_engagement\"\n",
    "    GROUP BY\n",
    "      user_pseudo_id\n",
    "\n",
    "  )\n",
    "  SELECT\n",
    "    user_pseudo_id,\n",
    "    user_first_engagement,\n",
    "    user_last_engagement,\n",
    "    EXTRACT(MONTH from TIMESTAMP_MICROS(user_first_engagement)) as month,\n",
    "    EXTRACT(DAYOFYEAR from TIMESTAMP_MICROS(user_first_engagement)) as julianday,\n",
    "    EXTRACT(DAYOFWEEK from TIMESTAMP_MICROS(user_first_engagement)) as dayofweek,\n",
    "\n",
    "    #add 24 hr to user's first touch\n",
    "    (user_first_engagement + 86400000000) AS ts_24hr_after_first_engagement,\n",
    "\n",
    "#churned = 1 if last_touch within 24 hr of app installation, else 0\n",
    "IF (user_last_engagement < (user_first_engagement + 86400000000),\n",
    "    1,\n",
    "    0 ) AS churned,\n",
    "\n",
    "#bounced = 1 if last_touch within 10 min, else 0\n",
    "IF (user_last_engagement <= (user_first_engagement + 600000000),\n",
    "    1,\n",
    "    0 ) AS bounced,\n",
    "  FROM\n",
    "    firstlasttouch\n",
    "  GROUP BY\n",
    "    1,2,3\n",
    "\n",
    "'''\n",
    "\n",
    "# Create the view\n",
    "view = client.create_table(view, exists_ok=True)\n",
    "print(f\"Created {view.table_type}: {str(view.reference)}\")\n"
   ]
  },
  {
   "cell_type": "markdown",
   "metadata": {
    "id": "Zz8v_2heeJz5"
   },
   "source": [
    "**View 2** aggregates the demographics of the users.\n",
    "\n",
    "This view extracts some demographic data from the user that has been collected by Google Analytics\n",
    "\n",
    "E.g. country, device/OS, language\n"
   ]
  },
  {
   "cell_type": "code",
   "execution_count": null,
   "metadata": {
    "colab": {
     "base_uri": "https://localhost:8080/"
    },
    "id": "d_ceKGg8PmeC",
    "outputId": "9a5768de-7b87-43b0-c883-726443ac25cc"
   },
   "outputs": [],
   "source": [
    "view_id  = \"{}.{}.user_demographics\".format(project_id, dataset_name)\n",
    "view     = bigquery.Table(view_id)\n",
    "\n",
    "view.view_query = f'''\n",
    "  WITH first_values AS (\n",
    "      SELECT\n",
    "          user_pseudo_id,\n",
    "          geo.country as country,\n",
    "          device.operating_system as operating_system,\n",
    "          device.language as language,\n",
    "          ROW_NUMBER() OVER (PARTITION BY user_pseudo_id ORDER BY event_timestamp DESC) AS row_num\n",
    "      FROM `firebase-public-project.analytics_153293282.events_*`\n",
    "      WHERE event_name=\"user_engagement\"\n",
    "      )\n",
    "  SELECT * EXCEPT (row_num)\n",
    "  FROM first_values\n",
    "  WHERE row_num = 1\n",
    "'''\n",
    "\n",
    "# Create the view\n",
    "view = client.create_table(view, exists_ok=True)\n",
    "print(f\"Created {view.table_type}: {str(view.reference)}\")\n"
   ]
  },
  {
   "cell_type": "markdown",
   "metadata": {
    "id": "Qlyoq6SoeYCi"
   },
   "source": [
    "**View 3** creates a aggregated user behaviour view\n",
    "\n",
    "This view aggregates KPIs that describe the user behaviour. \n",
    "\n",
    "E.g.  count of completed levels, sum of scores, # of challenges to a friend"
   ]
  },
  {
   "cell_type": "code",
   "execution_count": null,
   "metadata": {
    "colab": {
     "base_uri": "https://localhost:8080/"
    },
    "id": "yqOd-a9-ef5T",
    "outputId": "ffd7a4b1-b9c0-48f6-a9fa-af59fa55eb84"
   },
   "outputs": [],
   "source": [
    "view_id  = \"{}.{}.user_aggregate_behavior\".format(project_id, dataset_name)\n",
    "view     = bigquery.Table(view_id)\n",
    "\n",
    "view.view_query = f'''\n",
    "WITH events_first24hr AS (\n",
    "    #select user data only from first 24 hr of using the app\n",
    "    SELECT\n",
    "      e.*\n",
    "    FROM\n",
    "      `firebase-public-project.analytics_153293282.events_*` e\n",
    "    JOIN\n",
    "      {dataset_name}.user_returninginfo r\n",
    "    ON\n",
    "      e.user_pseudo_id = r.user_pseudo_id\n",
    "    WHERE\n",
    "      e.event_timestamp <= r.ts_24hr_after_first_engagement\n",
    "    )\n",
    "SELECT\n",
    "  user_pseudo_id,\n",
    "  SUM(IF(event_name = 'user_engagement', 1, 0)) AS cnt_user_engagement,\n",
    "  SUM(IF(event_name = 'level_start_quickplay', 1, 0)) AS cnt_level_start_quickplay,\n",
    "  SUM(IF(event_name = 'level_end_quickplay', 1, 0)) AS cnt_level_end_quickplay,\n",
    "  SUM(IF(event_name = 'level_complete_quickplay', 1, 0)) AS cnt_level_complete_quickplay,\n",
    "  SUM(IF(event_name = 'level_reset_quickplay', 1, 0)) AS cnt_level_reset_quickplay,\n",
    "  SUM(IF(event_name = 'post_score', 1, 0)) AS cnt_post_score,\n",
    "  SUM(IF(event_name = 'spend_virtual_currency', 1, 0)) AS cnt_spend_virtual_currency,\n",
    "  SUM(IF(event_name = 'ad_reward', 1, 0)) AS cnt_ad_reward,\n",
    "  SUM(IF(event_name = 'challenge_a_friend', 1, 0)) AS cnt_challenge_a_friend,\n",
    "  SUM(IF(event_name = 'completed_5_levels', 1, 0)) AS cnt_completed_5_levels,\n",
    "  SUM(IF(event_name = 'use_extra_steps', 1, 0)) AS cnt_use_extra_steps,\n",
    "FROM\n",
    "  events_first24hr\n",
    "GROUP BY\n",
    "  1\n",
    "'''\n",
    "\n",
    "# Create the view\n",
    "view = client.create_table(view, exists_ok=True)\n",
    "print(f\"Created {view.table_type}: {str(view.reference)}\")"
   ]
  },
  {
   "cell_type": "markdown",
   "metadata": {
    "id": "7fUIR5f-fK1Y"
   },
   "source": [
    "**View 4** combines all the other views into a single flat view for training purposes."
   ]
  },
  {
   "cell_type": "markdown",
   "metadata": {
    "id": "pkZjE-Oj_IdJ"
   },
   "source": [
    "![overview_3](assets/overview-3.png)"
   ]
  },
  {
   "cell_type": "code",
   "execution_count": null,
   "metadata": {
    "colab": {
     "base_uri": "https://localhost:8080/"
    },
    "id": "eJDqeTw-eyll",
    "outputId": "d9ce1f12-cb19-42d4-fcad-7b0009260a3e"
   },
   "outputs": [],
   "source": [
    "# Create view for the full dataset\n",
    "view_id  = \"{}.{}.cc_full_dataset\".format(project_id, dataset_name)\n",
    "view     = bigquery.Table(view_id)\n",
    "\n",
    "view.view_query = f'''\n",
    "  \n",
    "  SELECT\n",
    "    dem.*,\n",
    "    IFNULL(beh.cnt_user_engagement, 0) AS cnt_user_engagement,\n",
    "    IFNULL(beh.cnt_level_start_quickplay, 0) AS cnt_level_start_quickplay,\n",
    "    IFNULL(beh.cnt_level_end_quickplay, 0) AS cnt_level_end_quickplay,\n",
    "    IFNULL(beh.cnt_level_complete_quickplay, 0) AS cnt_level_complete_quickplay,\n",
    "    IFNULL(beh.cnt_level_reset_quickplay, 0) AS cnt_level_reset_quickplay,\n",
    "    IFNULL(beh.cnt_post_score, 0) AS cnt_post_score,\n",
    "    IFNULL(beh.cnt_spend_virtual_currency, 0) AS cnt_spend_virtual_currency,\n",
    "    IFNULL(beh.cnt_ad_reward, 0) AS cnt_ad_reward,\n",
    "    IFNULL(beh.cnt_challenge_a_friend, 0) AS cnt_challenge_a_friend,\n",
    "    IFNULL(beh.cnt_completed_5_levels, 0) AS cnt_completed_5_levels,\n",
    "    IFNULL(beh.cnt_use_extra_steps, 0) AS cnt_use_extra_steps,\n",
    "    ret.user_first_engagement,\n",
    "    ret.churned\n",
    "  FROM\n",
    "    {dataset_name}.user_returninginfo ret\n",
    "  LEFT OUTER JOIN\n",
    "    {dataset_name}.user_demographics dem\n",
    "  ON \n",
    "    ret.user_pseudo_id = dem.user_pseudo_id\n",
    "  LEFT OUTER JOIN \n",
    "    {dataset_name}.user_aggregate_behavior beh\n",
    "  ON\n",
    "    ret.user_pseudo_id = beh.user_pseudo_id\n",
    "  WHERE ret.bounced = 0\n",
    "'''\n",
    "\n",
    "# Create the view\n",
    "view = client.create_table(view, exists_ok=True)\n",
    "print(f\"Created {view.table_type}: {str(view.reference)}\")"
   ]
  },
  {
   "cell_type": "markdown",
   "metadata": {
    "id": "OIwxF2VkpnS5"
   },
   "source": [
    "## Step 5: Train & Test Split\n",
    "Split the dataset into a train & test dataset using views and a stable algorithm. We will use [[farm-fingerprint]](https://cloud.google.com/bigquery/docs/reference/standard-sql/hash_functions#farm_fingerprint) to split the data. The output of this function for a particular input will never change."
   ]
  },
  {
   "cell_type": "code",
   "execution_count": null,
   "metadata": {
    "colab": {
     "base_uri": "https://localhost:8080/"
    },
    "id": "zM6nK8OPvlDt",
    "outputId": "59ea38f4-831d-4edd-9008-c6412b5c15d9"
   },
   "outputs": [],
   "source": [
    "# Create view train_dataset\n",
    "view_id  = \"{}.{}.cc_train_dataset\".format(project_id, dataset_name)\n",
    "view     = bigquery.Table(view_id)\n",
    "\n",
    "view.view_query = f'''\n",
    "  \n",
    "  SELECT * FROM {dataset_name}.cc_full_dataset  \n",
    "  WHERE ABS(MOD(FARM_FINGERPRINT(user_pseudo_id), 10)) < 8\n",
    "  \n",
    "'''\n",
    "\n",
    "# Create the view\n",
    "view = client.create_table(view, exists_ok=True)\n",
    "print(f\"Created {view.table_type}: {str(view.reference)}\")"
   ]
  },
  {
   "cell_type": "code",
   "execution_count": null,
   "metadata": {
    "colab": {
     "base_uri": "https://localhost:8080/"
    },
    "id": "FEOBLLOcwD9r",
    "outputId": "5332d24b-3685-4f69-8650-b38813c1c298"
   },
   "outputs": [],
   "source": [
    "# Create view test dataset\n",
    "view_id  = \"{}.{}.cc_eval_dataset\".format(project_id, dataset_name)\n",
    "view     = bigquery.Table(view_id)\n",
    "\n",
    "view.view_query = f'''\n",
    "  \n",
    "  SELECT * FROM {dataset_name}.cc_full_dataset   \n",
    "  WHERE ABS(MOD(FARM_FINGERPRINT(user_pseudo_id), 10)) = 8\n",
    "  \n",
    "'''\n",
    "\n",
    "# Create the view\n",
    "view = client.create_table(view, exists_ok=True)\n",
    "print(f\"Created {view.table_type}: {str(view.reference)}\")"
   ]
  },
  {
   "cell_type": "markdown",
   "metadata": {
    "id": "_ekx264ukc87"
   },
   "source": [
    "## **Finally**\n",
    "This is the dataset we have prepared now:\n",
    "To remember: This is how the final training dataset looks like\n",
    "\n",
    "| User Demographic Data | User Behavioral Data | Label \n",
    "| --- | --- | --- |\n",
    "| country | cnt_user_engagement | churned\n",
    "| operating_system | cnt_level_start_quickplay |  |\n",
    "| language | cnt_level_end_quickplay |  |\n",
    "|  |  cnt_level_complete_quickplay |  |\n",
    "|  |  cnt_level_reset_quickplay |  |\n",
    "|  |  cnt_post_score |  |\n",
    "|  |  cnt_spend_virtual_currency |  |\n",
    "|  |  cnt_ad_reward |  |\n",
    "|  |  cnt_challenge_a_friend |  |\n",
    "|  |  cnt_completed_5_levels |  |\n",
    "|  |  cnt_use_extra_steps |  |\n",
    "|  |  user_first_engagement |  |"
   ]
  },
  {
   "cell_type": "markdown",
   "metadata": {
    "id": "4_vywvaOdhxY"
   },
   "source": [
    "### Cleanup\n",
    "Call this an the entire dataset will be cleaned up"
   ]
  },
  {
   "cell_type": "code",
   "execution_count": null,
   "metadata": {
    "id": "CfO3W6CLdeLy"
   },
   "outputs": [],
   "source": [
    "# Uncomment this to delete the dataset\n",
    "#!bq rm -f --location=$location --dataset $project_id:$dataset_name"
   ]
  }
 ],
 "metadata": {
  "colab": {
   "provenance": []
  },
  "environment": {
   "kernel": "python3",
   "name": "common-cpu.m107",
   "type": "gcloud",
   "uri": "gcr.io/deeplearning-platform-release/base-cpu:m107"
  },
  "kernelspec": {
   "display_name": "Python 3 (ipykernel)",
   "language": "python",
   "name": "python3"
  },
  "language_info": {
   "codemirror_mode": {
    "name": "ipython",
    "version": 3
   },
   "file_extension": ".py",
   "mimetype": "text/x-python",
   "name": "python",
   "nbconvert_exporter": "python",
   "pygments_lexer": "ipython3",
   "version": "3.8.7"
  },
  "widgets": {
   "application/vnd.jupyter.widget-state+json": {
    "02cc7be65d3b44e6a41677b5975cb08e": {
     "model_module": "@jupyter-widgets/base",
     "model_module_version": "1.2.0",
     "model_name": "LayoutModel",
     "state": {
      "_model_module": "@jupyter-widgets/base",
      "_model_module_version": "1.2.0",
      "_model_name": "LayoutModel",
      "_view_count": null,
      "_view_module": "@jupyter-widgets/base",
      "_view_module_version": "1.2.0",
      "_view_name": "LayoutView",
      "align_content": null,
      "align_items": null,
      "align_self": null,
      "border": null,
      "bottom": null,
      "display": null,
      "flex": null,
      "flex_flow": null,
      "grid_area": null,
      "grid_auto_columns": null,
      "grid_auto_flow": null,
      "grid_auto_rows": null,
      "grid_column": null,
      "grid_gap": null,
      "grid_row": null,
      "grid_template_areas": null,
      "grid_template_columns": null,
      "grid_template_rows": null,
      "height": null,
      "justify_content": null,
      "justify_items": null,
      "left": null,
      "margin": null,
      "max_height": null,
      "max_width": null,
      "min_height": null,
      "min_width": null,
      "object_fit": null,
      "object_position": null,
      "order": null,
      "overflow": null,
      "overflow_x": null,
      "overflow_y": null,
      "padding": null,
      "right": null,
      "top": null,
      "visibility": null,
      "width": null
     }
    },
    "0ad2733d58cc49b19476af4b3e43f211": {
     "model_module": "@jupyter-widgets/base",
     "model_module_version": "1.2.0",
     "model_name": "LayoutModel",
     "state": {
      "_model_module": "@jupyter-widgets/base",
      "_model_module_version": "1.2.0",
      "_model_name": "LayoutModel",
      "_view_count": null,
      "_view_module": "@jupyter-widgets/base",
      "_view_module_version": "1.2.0",
      "_view_name": "LayoutView",
      "align_content": null,
      "align_items": null,
      "align_self": null,
      "border": null,
      "bottom": null,
      "display": null,
      "flex": null,
      "flex_flow": null,
      "grid_area": null,
      "grid_auto_columns": null,
      "grid_auto_flow": null,
      "grid_auto_rows": null,
      "grid_column": null,
      "grid_gap": null,
      "grid_row": null,
      "grid_template_areas": null,
      "grid_template_columns": null,
      "grid_template_rows": null,
      "height": null,
      "justify_content": null,
      "justify_items": null,
      "left": null,
      "margin": null,
      "max_height": null,
      "max_width": null,
      "min_height": null,
      "min_width": null,
      "object_fit": null,
      "object_position": null,
      "order": null,
      "overflow": null,
      "overflow_x": null,
      "overflow_y": null,
      "padding": null,
      "right": null,
      "top": null,
      "visibility": null,
      "width": null
     }
    },
    "0e9a26863a9a430aa0cf3c67806f4422": {
     "model_module": "@jupyter-widgets/base",
     "model_module_version": "1.2.0",
     "model_name": "LayoutModel",
     "state": {
      "_model_module": "@jupyter-widgets/base",
      "_model_module_version": "1.2.0",
      "_model_name": "LayoutModel",
      "_view_count": null,
      "_view_module": "@jupyter-widgets/base",
      "_view_module_version": "1.2.0",
      "_view_name": "LayoutView",
      "align_content": null,
      "align_items": null,
      "align_self": null,
      "border": null,
      "bottom": null,
      "display": null,
      "flex": null,
      "flex_flow": null,
      "grid_area": null,
      "grid_auto_columns": null,
      "grid_auto_flow": null,
      "grid_auto_rows": null,
      "grid_column": null,
      "grid_gap": null,
      "grid_row": null,
      "grid_template_areas": null,
      "grid_template_columns": null,
      "grid_template_rows": null,
      "height": null,
      "justify_content": null,
      "justify_items": null,
      "left": null,
      "margin": null,
      "max_height": null,
      "max_width": null,
      "min_height": null,
      "min_width": null,
      "object_fit": null,
      "object_position": null,
      "order": null,
      "overflow": null,
      "overflow_x": null,
      "overflow_y": null,
      "padding": null,
      "right": null,
      "top": null,
      "visibility": null,
      "width": null
     }
    },
    "13f8ce80eb534f58b5999b7b3db82bcb": {
     "model_module": "@jupyter-widgets/controls",
     "model_module_version": "1.5.0",
     "model_name": "ProgressStyleModel",
     "state": {
      "_model_module": "@jupyter-widgets/controls",
      "_model_module_version": "1.5.0",
      "_model_name": "ProgressStyleModel",
      "_view_count": null,
      "_view_module": "@jupyter-widgets/base",
      "_view_module_version": "1.2.0",
      "_view_name": "StyleView",
      "bar_color": null,
      "description_width": ""
     }
    },
    "2d4a215db1df4602b5c4a1e92f31f24f": {
     "model_module": "@jupyter-widgets/controls",
     "model_module_version": "1.5.0",
     "model_name": "DescriptionStyleModel",
     "state": {
      "_model_module": "@jupyter-widgets/controls",
      "_model_module_version": "1.5.0",
      "_model_name": "DescriptionStyleModel",
      "_view_count": null,
      "_view_module": "@jupyter-widgets/base",
      "_view_module_version": "1.2.0",
      "_view_name": "StyleView",
      "description_width": ""
     }
    },
    "44caa340db5f46cbac6825b810dd8565": {
     "model_module": "@jupyter-widgets/base",
     "model_module_version": "1.2.0",
     "model_name": "LayoutModel",
     "state": {
      "_model_module": "@jupyter-widgets/base",
      "_model_module_version": "1.2.0",
      "_model_name": "LayoutModel",
      "_view_count": null,
      "_view_module": "@jupyter-widgets/base",
      "_view_module_version": "1.2.0",
      "_view_name": "LayoutView",
      "align_content": null,
      "align_items": null,
      "align_self": null,
      "border": null,
      "bottom": null,
      "display": null,
      "flex": null,
      "flex_flow": null,
      "grid_area": null,
      "grid_auto_columns": null,
      "grid_auto_flow": null,
      "grid_auto_rows": null,
      "grid_column": null,
      "grid_gap": null,
      "grid_row": null,
      "grid_template_areas": null,
      "grid_template_columns": null,
      "grid_template_rows": null,
      "height": null,
      "justify_content": null,
      "justify_items": null,
      "left": null,
      "margin": null,
      "max_height": null,
      "max_width": null,
      "min_height": null,
      "min_width": null,
      "object_fit": null,
      "object_position": null,
      "order": null,
      "overflow": null,
      "overflow_x": null,
      "overflow_y": null,
      "padding": null,
      "right": null,
      "top": null,
      "visibility": null,
      "width": null
     }
    },
    "49f1192958da44aebec489166df8fa71": {
     "model_module": "@jupyter-widgets/controls",
     "model_module_version": "1.5.0",
     "model_name": "HBoxModel",
     "state": {
      "_dom_classes": [],
      "_model_module": "@jupyter-widgets/controls",
      "_model_module_version": "1.5.0",
      "_model_name": "HBoxModel",
      "_view_count": null,
      "_view_module": "@jupyter-widgets/controls",
      "_view_module_version": "1.5.0",
      "_view_name": "HBoxView",
      "box_style": "",
      "children": [
       "IPY_MODEL_88734968e13f47d8b0ceb143c0e2110b",
       "IPY_MODEL_4b1e49cf9ac64a0c9bf757ca64d0b9e1",
       "IPY_MODEL_a6b3f8a2cfbb4efab59133e4dcc92da5"
      ],
      "layout": "IPY_MODEL_02cc7be65d3b44e6a41677b5975cb08e"
     }
    },
    "4b1e49cf9ac64a0c9bf757ca64d0b9e1": {
     "model_module": "@jupyter-widgets/controls",
     "model_module_version": "1.5.0",
     "model_name": "FloatProgressModel",
     "state": {
      "_dom_classes": [],
      "_model_module": "@jupyter-widgets/controls",
      "_model_module_version": "1.5.0",
      "_model_name": "FloatProgressModel",
      "_view_count": null,
      "_view_module": "@jupyter-widgets/controls",
      "_view_module_version": "1.5.0",
      "_view_name": "ProgressView",
      "bar_style": "success",
      "description": "",
      "description_tooltip": null,
      "layout": "IPY_MODEL_0ad2733d58cc49b19476af4b3e43f211",
      "max": 3,
      "min": 0,
      "orientation": "horizontal",
      "style": "IPY_MODEL_13f8ce80eb534f58b5999b7b3db82bcb",
      "value": 3
     }
    },
    "4cb1534d53c74e75a2086e525057401b": {
     "model_module": "@jupyter-widgets/controls",
     "model_module_version": "1.5.0",
     "model_name": "DescriptionStyleModel",
     "state": {
      "_model_module": "@jupyter-widgets/controls",
      "_model_module_version": "1.5.0",
      "_model_name": "DescriptionStyleModel",
      "_view_count": null,
      "_view_module": "@jupyter-widgets/base",
      "_view_module_version": "1.2.0",
      "_view_name": "StyleView",
      "description_width": ""
     }
    },
    "5a08fb1aaed7445a94b17d76d6874ada": {
     "model_module": "@jupyter-widgets/controls",
     "model_module_version": "1.5.0",
     "model_name": "DescriptionStyleModel",
     "state": {
      "_model_module": "@jupyter-widgets/controls",
      "_model_module_version": "1.5.0",
      "_model_name": "DescriptionStyleModel",
      "_view_count": null,
      "_view_module": "@jupyter-widgets/base",
      "_view_module_version": "1.2.0",
      "_view_name": "StyleView",
      "description_width": ""
     }
    },
    "60d8e67fc0c641f0855caff46b210776": {
     "model_module": "@jupyter-widgets/base",
     "model_module_version": "1.2.0",
     "model_name": "LayoutModel",
     "state": {
      "_model_module": "@jupyter-widgets/base",
      "_model_module_version": "1.2.0",
      "_model_name": "LayoutModel",
      "_view_count": null,
      "_view_module": "@jupyter-widgets/base",
      "_view_module_version": "1.2.0",
      "_view_name": "LayoutView",
      "align_content": null,
      "align_items": null,
      "align_self": null,
      "border": null,
      "bottom": null,
      "display": null,
      "flex": null,
      "flex_flow": null,
      "grid_area": null,
      "grid_auto_columns": null,
      "grid_auto_flow": null,
      "grid_auto_rows": null,
      "grid_column": null,
      "grid_gap": null,
      "grid_row": null,
      "grid_template_areas": null,
      "grid_template_columns": null,
      "grid_template_rows": null,
      "height": null,
      "justify_content": null,
      "justify_items": null,
      "left": null,
      "margin": null,
      "max_height": null,
      "max_width": null,
      "min_height": null,
      "min_width": null,
      "object_fit": null,
      "object_position": null,
      "order": null,
      "overflow": null,
      "overflow_x": null,
      "overflow_y": null,
      "padding": null,
      "right": null,
      "top": null,
      "visibility": null,
      "width": null
     }
    },
    "620f7c122b414c3da9d918a46f45b59a": {
     "model_module": "@jupyter-widgets/controls",
     "model_module_version": "1.5.0",
     "model_name": "HBoxModel",
     "state": {
      "_dom_classes": [],
      "_model_module": "@jupyter-widgets/controls",
      "_model_module_version": "1.5.0",
      "_model_name": "HBoxModel",
      "_view_count": null,
      "_view_module": "@jupyter-widgets/controls",
      "_view_module_version": "1.5.0",
      "_view_name": "HBoxView",
      "box_style": "",
      "children": [
       "IPY_MODEL_e7c2fa03bcad46888d3dd27ca7bf9d2b",
       "IPY_MODEL_c4e4080c5f324bcb8fbd3dddbda33887",
       "IPY_MODEL_e135e3b0c3584e4ebcbbebd05b301880"
      ],
      "layout": "IPY_MODEL_0e9a26863a9a430aa0cf3c67806f4422"
     }
    },
    "79458f8cbe074265a72e778025687dbf": {
     "model_module": "@jupyter-widgets/base",
     "model_module_version": "1.2.0",
     "model_name": "LayoutModel",
     "state": {
      "_model_module": "@jupyter-widgets/base",
      "_model_module_version": "1.2.0",
      "_model_name": "LayoutModel",
      "_view_count": null,
      "_view_module": "@jupyter-widgets/base",
      "_view_module_version": "1.2.0",
      "_view_name": "LayoutView",
      "align_content": null,
      "align_items": null,
      "align_self": null,
      "border": null,
      "bottom": null,
      "display": null,
      "flex": null,
      "flex_flow": null,
      "grid_area": null,
      "grid_auto_columns": null,
      "grid_auto_flow": null,
      "grid_auto_rows": null,
      "grid_column": null,
      "grid_gap": null,
      "grid_row": null,
      "grid_template_areas": null,
      "grid_template_columns": null,
      "grid_template_rows": null,
      "height": null,
      "justify_content": null,
      "justify_items": null,
      "left": null,
      "margin": null,
      "max_height": null,
      "max_width": null,
      "min_height": null,
      "min_width": null,
      "object_fit": null,
      "object_position": null,
      "order": null,
      "overflow": null,
      "overflow_x": null,
      "overflow_y": null,
      "padding": null,
      "right": null,
      "top": null,
      "visibility": null,
      "width": null
     }
    },
    "829a2ade10b249bf8f9d9fe260fca10a": {
     "model_module": "@jupyter-widgets/controls",
     "model_module_version": "1.5.0",
     "model_name": "ProgressStyleModel",
     "state": {
      "_model_module": "@jupyter-widgets/controls",
      "_model_module_version": "1.5.0",
      "_model_name": "ProgressStyleModel",
      "_view_count": null,
      "_view_module": "@jupyter-widgets/base",
      "_view_module_version": "1.2.0",
      "_view_name": "StyleView",
      "bar_color": null,
      "description_width": ""
     }
    },
    "88734968e13f47d8b0ceb143c0e2110b": {
     "model_module": "@jupyter-widgets/controls",
     "model_module_version": "1.5.0",
     "model_name": "HTMLModel",
     "state": {
      "_dom_classes": [],
      "_model_module": "@jupyter-widgets/controls",
      "_model_module_version": "1.5.0",
      "_model_name": "HTMLModel",
      "_view_count": null,
      "_view_module": "@jupyter-widgets/controls",
      "_view_module_version": "1.5.0",
      "_view_name": "HTMLView",
      "description": "",
      "description_tooltip": null,
      "layout": "IPY_MODEL_e6c8e7b741b942be9022aca94b64e0a5",
      "placeholder": "​",
      "style": "IPY_MODEL_5a08fb1aaed7445a94b17d76d6874ada",
      "value": "Downloading: 100%"
     }
    },
    "a6b3f8a2cfbb4efab59133e4dcc92da5": {
     "model_module": "@jupyter-widgets/controls",
     "model_module_version": "1.5.0",
     "model_name": "HTMLModel",
     "state": {
      "_dom_classes": [],
      "_model_module": "@jupyter-widgets/controls",
      "_model_module_version": "1.5.0",
      "_model_name": "HTMLModel",
      "_view_count": null,
      "_view_module": "@jupyter-widgets/controls",
      "_view_module_version": "1.5.0",
      "_view_name": "HTMLView",
      "description": "",
      "description_tooltip": null,
      "layout": "IPY_MODEL_79458f8cbe074265a72e778025687dbf",
      "placeholder": "​",
      "style": "IPY_MODEL_2d4a215db1df4602b5c4a1e92f31f24f",
      "value": ""
     }
    },
    "bf2422a5d1894461b98e21c893221b98": {
     "model_module": "@jupyter-widgets/controls",
     "model_module_version": "1.5.0",
     "model_name": "DescriptionStyleModel",
     "state": {
      "_model_module": "@jupyter-widgets/controls",
      "_model_module_version": "1.5.0",
      "_model_name": "DescriptionStyleModel",
      "_view_count": null,
      "_view_module": "@jupyter-widgets/base",
      "_view_module_version": "1.2.0",
      "_view_name": "StyleView",
      "description_width": ""
     }
    },
    "c4e4080c5f324bcb8fbd3dddbda33887": {
     "model_module": "@jupyter-widgets/controls",
     "model_module_version": "1.5.0",
     "model_name": "FloatProgressModel",
     "state": {
      "_dom_classes": [],
      "_model_module": "@jupyter-widgets/controls",
      "_model_module_version": "1.5.0",
      "_model_name": "FloatProgressModel",
      "_view_count": null,
      "_view_module": "@jupyter-widgets/controls",
      "_view_module_version": "1.5.0",
      "_view_name": "ProgressView",
      "bar_style": "success",
      "description": "",
      "description_tooltip": null,
      "layout": "IPY_MODEL_60d8e67fc0c641f0855caff46b210776",
      "max": 1,
      "min": 0,
      "orientation": "horizontal",
      "style": "IPY_MODEL_829a2ade10b249bf8f9d9fe260fca10a",
      "value": 1
     }
    },
    "ca77df6babda4221a1239111870412cc": {
     "model_module": "@jupyter-widgets/base",
     "model_module_version": "1.2.0",
     "model_name": "LayoutModel",
     "state": {
      "_model_module": "@jupyter-widgets/base",
      "_model_module_version": "1.2.0",
      "_model_name": "LayoutModel",
      "_view_count": null,
      "_view_module": "@jupyter-widgets/base",
      "_view_module_version": "1.2.0",
      "_view_name": "LayoutView",
      "align_content": null,
      "align_items": null,
      "align_self": null,
      "border": null,
      "bottom": null,
      "display": null,
      "flex": null,
      "flex_flow": null,
      "grid_area": null,
      "grid_auto_columns": null,
      "grid_auto_flow": null,
      "grid_auto_rows": null,
      "grid_column": null,
      "grid_gap": null,
      "grid_row": null,
      "grid_template_areas": null,
      "grid_template_columns": null,
      "grid_template_rows": null,
      "height": null,
      "justify_content": null,
      "justify_items": null,
      "left": null,
      "margin": null,
      "max_height": null,
      "max_width": null,
      "min_height": null,
      "min_width": null,
      "object_fit": null,
      "object_position": null,
      "order": null,
      "overflow": null,
      "overflow_x": null,
      "overflow_y": null,
      "padding": null,
      "right": null,
      "top": null,
      "visibility": null,
      "width": null
     }
    },
    "e135e3b0c3584e4ebcbbebd05b301880": {
     "model_module": "@jupyter-widgets/controls",
     "model_module_version": "1.5.0",
     "model_name": "HTMLModel",
     "state": {
      "_dom_classes": [],
      "_model_module": "@jupyter-widgets/controls",
      "_model_module_version": "1.5.0",
      "_model_name": "HTMLModel",
      "_view_count": null,
      "_view_module": "@jupyter-widgets/controls",
      "_view_module_version": "1.5.0",
      "_view_name": "HTMLView",
      "description": "",
      "description_tooltip": null,
      "layout": "IPY_MODEL_ca77df6babda4221a1239111870412cc",
      "placeholder": "​",
      "style": "IPY_MODEL_bf2422a5d1894461b98e21c893221b98",
      "value": ""
     }
    },
    "e6c8e7b741b942be9022aca94b64e0a5": {
     "model_module": "@jupyter-widgets/base",
     "model_module_version": "1.2.0",
     "model_name": "LayoutModel",
     "state": {
      "_model_module": "@jupyter-widgets/base",
      "_model_module_version": "1.2.0",
      "_model_name": "LayoutModel",
      "_view_count": null,
      "_view_module": "@jupyter-widgets/base",
      "_view_module_version": "1.2.0",
      "_view_name": "LayoutView",
      "align_content": null,
      "align_items": null,
      "align_self": null,
      "border": null,
      "bottom": null,
      "display": null,
      "flex": null,
      "flex_flow": null,
      "grid_area": null,
      "grid_auto_columns": null,
      "grid_auto_flow": null,
      "grid_auto_rows": null,
      "grid_column": null,
      "grid_gap": null,
      "grid_row": null,
      "grid_template_areas": null,
      "grid_template_columns": null,
      "grid_template_rows": null,
      "height": null,
      "justify_content": null,
      "justify_items": null,
      "left": null,
      "margin": null,
      "max_height": null,
      "max_width": null,
      "min_height": null,
      "min_width": null,
      "object_fit": null,
      "object_position": null,
      "order": null,
      "overflow": null,
      "overflow_x": null,
      "overflow_y": null,
      "padding": null,
      "right": null,
      "top": null,
      "visibility": null,
      "width": null
     }
    },
    "e7c2fa03bcad46888d3dd27ca7bf9d2b": {
     "model_module": "@jupyter-widgets/controls",
     "model_module_version": "1.5.0",
     "model_name": "HTMLModel",
     "state": {
      "_dom_classes": [],
      "_model_module": "@jupyter-widgets/controls",
      "_model_module_version": "1.5.0",
      "_model_name": "HTMLModel",
      "_view_count": null,
      "_view_module": "@jupyter-widgets/controls",
      "_view_module_version": "1.5.0",
      "_view_name": "HTMLView",
      "description": "",
      "description_tooltip": null,
      "layout": "IPY_MODEL_44caa340db5f46cbac6825b810dd8565",
      "placeholder": "​",
      "style": "IPY_MODEL_4cb1534d53c74e75a2086e525057401b",
      "value": "Job ID 0510c811-448c-4457-9e3d-a05648ad0c58 successfully executed: 100%"
     }
    }
   }
  }
 },
 "nbformat": 4,
 "nbformat_minor": 4
}
